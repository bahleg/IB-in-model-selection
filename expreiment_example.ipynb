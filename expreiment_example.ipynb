{
 "cells": [
  {
   "cell_type": "markdown",
   "metadata": {},
   "source": [
    "Задаем нужные конфигурации эксперимента в conf."
   ]
  },
  {
   "cell_type": "code",
   "execution_count": 1,
   "metadata": {},
   "outputs": [
    {
     "name": "stdout",
     "output_type": "stream",
     "text": [
      "/home/bukkacha/.local/lib/python3.10/site-packages/hydra/_internal/defaults_list.py:251: UserWarning: In 'config': Defaults list is missing `_self_`. See https://hydra.cc/docs/1.2/upgrades/1.0_to_1.1/default_composition_order for more information\n",
      "  warnings.warn(msg, UserWarning)\n",
      "[2024-09-26 16:39:09,715][__main__][INFO] - evolution:\n",
      "  type: RegularizedEvolution\n",
      "  params:\n",
      "    population_size: 100\n",
      "    subset_size: 30\n",
      "    ncycles: 1000\n",
      "dataset:\n",
      "  nsamples: 1000\n",
      "  nfeatures: 2\n",
      "pool:\n",
      "  nscalars: 4\n",
      "  nvectors: 4\n",
      "\n",
      "[2024-09-26 16:39:09,715][__main__][INFO] - Creating dataset\n",
      "[2024-09-26 16:39:09,718][__main__][INFO] - Done creating datset\n",
      "[2024-09-26 16:39:09,718][__main__][INFO] - Running evolution\n",
      "  6%|██▍                                      | 60/1000 [00:01<00:19, 47.73it/s]/home/bukkacha/Desktop/Inductive bias/src/additional/utils.py:9: RuntimeWarning: overflow encountered in exp\n",
      "  return 1.0 / (1.0 + np.exp(-x))\n",
      "  6%|██▋                                      | 65/1000 [00:01<00:21, 42.59it/s]/home/bukkacha/Desktop/Inductive bias/src/model/model.py:183: RuntimeWarning: overflow encountered in add\n",
      "  result = OPS[func_index](\n",
      " 16%|██████▌                                 | 163/1000 [00:04<00:26, 31.31it/s]/home/bukkacha/Desktop/Inductive bias/src/model/model.py:183: RuntimeWarning: overflow encountered in matmul\n",
      "  result = OPS[func_index](\n",
      " 33%|█████████████▏                          | 329/1000 [00:10<00:23, 28.26it/s]/home/bukkacha/Desktop/Inductive bias/src/model/model.py:183: RuntimeWarning: invalid value encountered in matmul\n",
      "  result = OPS[func_index](\n",
      " 43%|█████████████████                       | 428/1000 [00:15<00:47, 11.95it/s]/home/bukkacha/Desktop/Inductive bias/src/model/model.py:183: RuntimeWarning: invalid value encountered in subtract\n",
      "  result = OPS[func_index](\n",
      " 43%|█████████████████▎                      | 434/1000 [00:15<00:49, 11.44it/s]/home/bukkacha/Desktop/Inductive bias/src/model/model.py:183: RuntimeWarning: invalid value encountered in add\n",
      "  result = OPS[func_index](\n",
      " 86%|██████████████████████████████████▌     | 865/1000 [00:57<00:14,  9.10it/s]/home/bukkacha/Desktop/Inductive bias/src/model/model.py:183: RuntimeWarning: overflow encountered in subtract\n",
      "  result = OPS[func_index](\n",
      "100%|███████████████████████████████████████| 1000/1000 [01:11<00:00, 13.90it/s]\n",
      "[2024-09-26 16:40:22,468][__main__][INFO] - Best model accuracy on validation data: 1.0\n",
      "[2024-09-26 16:40:22,468][__main__][INFO] - \n",
      "    Model structure:\n",
      "\n",
      "      Setup: \n",
      "    \tscalars=[inf inf inf inf], \n",
      "    \tvectors=[[0.0, 7.920355688057293e+240], [0.0, 7.920355688057293e+240], [5.493780465460569, 3.960177844028646e+240], [0.0, 1.1880533532085939e+241]]\n",
      "    \n",
      "      Learn: \n",
      "      \tsubtraction(v3, v2)=v2\n",
      "\t\t\t\tmatmul(v1, v3)=s1\n",
      "\t\t\t\tmatmul(v1, v0)=s0\n",
      "\t\t\t\taddition(v0, v1)=v3\n",
      "\t\t\t\taddition(v3, v0)=v1\n",
      "\t\t\t\tmatmul(v3, v2)=s1\n",
      "\t\t\t\tmatmul(v3, v3)=s3\n",
      "\t\t\t\tmagnitute(v0)=v1\n",
      "\t\t\t\tmagnitute(s3)=s0\n",
      "\t\t\t\tmatmul(v1, v2)=s1\n",
      "\t\t\t\t\n",
      "      Predict: \n",
      "      \tmatmul(v0, v1)=s1\n",
      "\t\t\t\tmatmul(v2, v1)=s3\n",
      "\t\t\t\tmatmul(v1, v0)=s1\n",
      "\t\t\t\tmatmul(v0, v3)=s2\n",
      "\t\t\t\tmagnitute(v1)=v0\n",
      "\t\t\t\taddition(v0, v1)=v0\n",
      "\t\t\t\tmatmul(v0, v0)=s2\n",
      "\t\t\t\t\n",
      "    \n",
      "[2024-09-26 16:40:22,469][__main__][INFO] - Saving results to pickle file\n",
      "[2024-09-26 16:40:22,587][__main__][INFO] - Plotting results to result.png\n",
      "[2024-09-26 16:40:22,887][__main__][INFO] - Experiment completed successfully\n"
     ]
    }
   ],
   "source": [
    "!python3 run.py"
   ]
  }
 ],
 "metadata": {
  "kernelspec": {
   "display_name": "Python 3",
   "language": "python",
   "name": "python3"
  },
  "language_info": {
   "codemirror_mode": {
    "name": "ipython",
    "version": 3
   },
   "file_extension": ".py",
   "mimetype": "text/x-python",
   "name": "python",
   "nbconvert_exporter": "python",
   "pygments_lexer": "ipython3",
   "version": "3.10.12"
  }
 },
 "nbformat": 4,
 "nbformat_minor": 2
}
