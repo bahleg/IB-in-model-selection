{
 "cells": [
  {
   "cell_type": "code",
   "execution_count": 1,
   "id": "441c115a14078a36",
   "metadata": {
    "ExecuteTime": {
     "end_time": "2024-09-16T17:24:57.943547Z",
     "start_time": "2024-09-16T17:24:57.484835Z"
    }
   },
   "outputs": [],
   "source": [
    "import numpy as np\n",
    "import random\n",
    "from tqdm import tqdm\n",
    "import matplotlib.pyplot as plt\n",
    "from abc import ABC, abstractmethod\n",
    "np.random.seed(0)"
   ]
  },
  {
   "cell_type": "markdown",
   "id": "319af7c190edf93d",
   "metadata": {},
   "source": [
    "# Dataset"
   ]
  },
  {
   "cell_type": "code",
   "execution_count": 2,
   "id": "826b1f3a947646fe",
   "metadata": {
    "ExecuteTime": {
     "end_time": "2024-09-16T17:24:57.957845Z",
     "start_time": "2024-09-16T17:24:57.944861Z"
    }
   },
   "outputs": [],
   "source": [
    "n_tasks = 1\n",
    "n_samples = 1000\n",
    "n_features = 2\n",
    "\n",
    "datasets = []\n",
    "for i in range(n_tasks):\n",
    "    mean1 = np.random.randn(2)\n",
    "    mean2 = np.random.randn(2)\n",
    "    cov = np.random.randn(2, 2)\n",
    "    X1 = np.random.multivariate_normal(mean1, cov.T @ cov, n_samples)\n",
    "    X2 = np.random.multivariate_normal(mean2, cov.T @ cov, n_samples)\n",
    "    \n",
    "    # Combine the data and create labels\n",
    "    X = np.vstack((X1, X2))\n",
    "    y = np.hstack((np.zeros(n_samples), np.ones(n_samples)))\n",
    "    dataset = np.hstack((X, y.reshape(len(y), 1)))\n",
    "    np.random.shuffle(dataset)\n",
    "    n = len(dataset)\n",
    "    dtrain = dataset[: int(0.8 * n)]\n",
    "    dvalid = dataset[: int(0.2 * n)]\n",
    "    datasets.append((dtrain, dvalid))"
   ]
  },
  {
   "cell_type": "markdown",
   "id": "c3ade19e59be4437",
   "metadata": {},
   "source": [
    "# Operations"
   ]
  },
  {
   "cell_type": "code",
   "execution_count": 3,
   "id": "e5bdb898d01771c6",
   "metadata": {
    "ExecuteTime": {
     "end_time": "2024-09-16T17:24:57.961927Z",
     "start_time": "2024-09-16T17:24:57.959019Z"
    }
   },
   "outputs": [],
   "source": [
    "def identity_func(x: object):\n",
    "    return x\n",
    "\n",
    "# func_indices = [0, 1, 2, 3]\n",
    "functions = [identity_func, np.add, np.abs, np.matmul]"
   ]
  },
  {
   "cell_type": "markdown",
   "id": "53e63745927cd407",
   "metadata": {},
   "source": [
    "# Pool of variables "
   ]
  },
  {
   "cell_type": "code",
   "execution_count": 4,
   "id": "488b2aa13c7413fd",
   "metadata": {
    "ExecuteTime": {
     "end_time": "2024-09-16T17:24:57.971147Z",
     "start_time": "2024-09-16T17:24:57.963424Z"
    }
   },
   "outputs": [],
   "source": [
    "class Pool:\n",
    "    def __init__(self, num_of_scalars : int, num_of_vectors : int): # для простоты только векторы и скаляры\n",
    "        self.num_of_scalars = num_of_scalars\n",
    "        self.num_of_vectors = num_of_vectors\n",
    "        self.scalars = np.zeros(num_of_scalars)\n",
    "        self.vectors = np.zeros(shape=(num_of_vectors, n_features))\n",
    "            \n",
    "    def set_scalar(self, index: int, value: int):\n",
    "        self.scalars[index] = value \n",
    "        \n",
    "    def set_scalars(self, values: np.array):\n",
    "        assert values.shape == self.scalars.shape\n",
    "        self.scalars = values.copy()\n",
    "        # np.copyto(self.scalars, values)\n",
    "        \n",
    "    def set_vector(self, index: int, value: np.array):\n",
    "        self.vectors[index] = value.copy()\n",
    "        # np.copyto(self.vectors[index], value)\n",
    "        \n",
    "    def set_vectors(self, values: np.array):\n",
    "        assert values.shape == self.vectors.shape\n",
    "        self.vectors = values.copy()\n",
    "        # np.copyto(self.vectors, values)\n",
    "        \n",
    "    def get_scalar(self, index: int):\n",
    "        return self.scalars[index]\n",
    "    \n",
    "    def get_scalars(self, indices: list = None):\n",
    "        if indices is None:\n",
    "            return self.scalars\n",
    "        return self.scalars[indices]\n",
    "    \n",
    "    def get_vector(self, index: int):\n",
    "        return self.vectors[index]\n",
    "    \n",
    "    def get_vectors(self, indices: list = None):\n",
    "        if indices is None:\n",
    "            return self.vectors \n",
    "        return self.vectors[indices]\n",
    "\n",
    "    def __repr__(self):\n",
    "        return f\"Pool(\\nscalars={self.scalars}, \\nvectors=\\n{self.vectors}\\n)\""
   ]
  },
  {
   "cell_type": "markdown",
   "id": "dcb5c37e017ace37",
   "metadata": {},
   "source": [
    "# Functions"
   ]
  },
  {
   "cell_type": "markdown",
   "id": "13d0346c3f0609c2",
   "metadata": {},
   "source": [
    "## Abstract Function"
   ]
  },
  {
   "cell_type": "code",
   "execution_count": 5,
   "id": "b11b7c18df3891dd",
   "metadata": {
    "ExecuteTime": {
     "end_time": "2024-09-16T17:24:57.975689Z",
     "start_time": "2024-09-16T17:24:57.972233Z"
    }
   },
   "outputs": [],
   "source": [
    "class Function(ABC):\n",
    "    @abstractmethod\n",
    "    def eval_func(self):\n",
    "        pass\n",
    "    \n",
    "    @abstractmethod\n",
    "    def add_function(self, new_func):\n",
    "        pass \n",
    "    \n",
    "    @abstractmethod\n",
    "    def remove_function(self, func_index: int):\n",
    "        pass \n",
    "    \n",
    "    @abstractmethod\n",
    "    def replace_function(self, func_index: int):\n",
    "        pass \n",
    "    \n",
    "    @abstractmethod\n",
    "    def change_inner_params(self, func_index: int):\n",
    "        pass "
   ]
  },
  {
   "cell_type": "markdown",
   "id": "5aa7d6eb5070b538",
   "metadata": {},
   "source": [
    "## Setup"
   ]
  },
  {
   "cell_type": "code",
   "execution_count": 6,
   "id": "afadb2220aadc2d0",
   "metadata": {
    "ExecuteTime": {
     "end_time": "2024-09-16T17:24:57.981805Z",
     "start_time": "2024-09-16T17:24:57.976687Z"
    }
   },
   "outputs": [],
   "source": [
    "class Setup(Function, ABC):\n",
    "    def __init__(self):\n",
    "        self.functions = [0.0] # dump values\n",
    "        self._scalars = np.zeros(num_of_scalars)\n",
    "        self._vectors = np.zeros(shape=(num_of_vectors, n_features))\n",
    "    \n",
    "    def replace_function(self, func_index: int):\n",
    "        # self.change_inner_params(-1)\n",
    "        pass \n",
    "    \n",
    "    def add_function(self, new_func):\n",
    "        # self.change_inner_params(-1)\n",
    "        pass\n",
    "    \n",
    "    def remove_function(self, func_index: int):\n",
    "        # self.change_inner_params(-1)\n",
    "        pass \n",
    "        \n",
    "    def change_inner_params(self, func_index: int):\n",
    "        for i in range(num_of_scalars):\n",
    "            self._scalars[i] = np.random.uniform(low=-20.0, high = 20.0)\n",
    "        for i in range(num_of_vectors):\n",
    "            for j in range(n_features):\n",
    "                self._vectors[i][j] = np.random.uniform(low=-20.0, high = 20.0)\n",
    "    \n",
    "    def eval_func(self):\n",
    "        pool.set_scalars(self._scalars)\n",
    "        # print(self._vectors[0].shape)\n",
    "        pool.set_vectors(self._vectors)\n",
    "    "
   ]
  },
  {
   "cell_type": "markdown",
   "id": "ef3e7cb2d731c545",
   "metadata": {},
   "source": [
    "## Learn"
   ]
  },
  {
   "cell_type": "code",
   "execution_count": 7,
   "id": "491254f6619540af",
   "metadata": {
    "ExecuteTime": {
     "end_time": "2024-09-16T17:24:57.997411Z",
     "start_time": "2024-09-16T17:24:57.982940Z"
    }
   },
   "outputs": [],
   "source": [
    "class Learn(Function, ABC):\n",
    "    def __init__(self):\n",
    "        self.functions = [] # list of functions\n",
    "        self.func_args = [] # list of tuples (var_type, [memory_indices])\n",
    "        \n",
    "    def add_function(self, func_type):\n",
    "        self.functions.append(func_type)\n",
    "        var_type = -1\n",
    "        return_type = -1\n",
    "        arg_indices = []\n",
    "        return_index = -1\n",
    "        if func_type == 0: \n",
    "            var_type = np.random.choice([0, 1]) # 0 - scalar, 1 - vector\n",
    "            return_type = var_type\n",
    "            arg_indices = np.random.choice(np.arange(num_of_scalars if var_type == 0 else num_of_vectors), size=1)\n",
    "            return_index = np.random.choice(np.arange(num_of_scalars if return_type == 0 else num_of_vectors), size=1)\n",
    "        elif func_type == 1:\n",
    "            var_type = np.random.choice([0, 1])\n",
    "            return_type = var_type\n",
    "            arg_indices = np.random.choice(np.arange(num_of_scalars if var_type == 0 else num_of_vectors), size=2)\n",
    "            return_index = np.random.choice(np.arange(num_of_scalars if return_type == 0 else num_of_vectors), size=1)\n",
    "        elif func_type == 2: \n",
    "            var_type = np.random.choice([0, 1])\n",
    "            return_type = var_type\n",
    "            arg_indices = np.random.choice(np.arange(num_of_scalars if var_type == 0 else num_of_vectors), size=1)\n",
    "            return_index = np.random.choice(np.arange(num_of_scalars if return_type == 0 else num_of_vectors), size=1)\n",
    "        elif func_type == 3: \n",
    "            var_type = 1\n",
    "            return_type = 0\n",
    "            arg_indices = np.random.choice(np.arange(num_of_vectors), size=2)\n",
    "            return_index = np.random.choice(np.arange(num_of_scalars), size=1)\n",
    "            \n",
    "        self.func_args.append(dict(\n",
    "            var_type=var_type, \n",
    "            return_type=return_type,\n",
    "            arg_indices=arg_indices,\n",
    "            return_index=return_index\n",
    "            )\n",
    "        )\n",
    "        \n",
    "    def change_inner_params(self, func_index: int):\n",
    "        func_type = self.functions[func_index]\n",
    "        var_type = self.func_args[func_index][\"var_type\"]\n",
    "        return_type = self.func_args[func_index][\"return_type\"]\n",
    "        arg_size = None\n",
    "        \n",
    "        if func_type == 0:\n",
    "            arg_size = 1\n",
    "        elif func_type == 1:\n",
    "            arg_size = 2\n",
    "        elif func_type == 2:\n",
    "            arg_size = 1\n",
    "        elif func_type == 3:\n",
    "            arg_size = 2\n",
    "            \n",
    "        self.func_args[func_index][\"arg_indices\"] = np.random.choice(np.arange(num_of_scalars if var_type == 0 else num_of_vectors), size=arg_size)\n",
    "        self.func_args[func_index][\"return_index\"] = np.random.choice(np.arange(num_of_scalars if return_type == 0 else num_of_vectors), size=1)\n",
    "\n",
    "\n",
    "    \n",
    "    def remove_function(self, func_index: int):\n",
    "        del self.func_args[func_index]\n",
    "        del self.functions[func_index]\n",
    "\n",
    "    def replace_function(self, func_index: int):\n",
    "        func_type = np.random.choice([0, 1, 2, 3])\n",
    "        var_type = -1\n",
    "        return_type = -1\n",
    "        arg_indices = []\n",
    "        return_index = -1\n",
    "        if func_type == 0:\n",
    "            var_type = np.random.choice([0, 1]) # 0 - scalar, 1 - vector\n",
    "            return_type = var_type\n",
    "            arg_indices = np.random.choice(np.arange(num_of_scalars if var_type == 0 else num_of_vectors), size=1)\n",
    "            return_index = np.random.choice(np.arange(num_of_scalars if return_type == 0 else num_of_vectors)[1:], size=1)\n",
    "        elif func_type == 1:\n",
    "            var_type = np.random.choice([0, 1])\n",
    "            return_type = var_type\n",
    "            arg_indices = np.random.choice(np.arange(num_of_scalars if var_type == 0 else num_of_vectors), size=2)\n",
    "            return_index = np.random.choice(np.arange(num_of_scalars if return_type == 0 else num_of_vectors)[1:], size=1)\n",
    "        elif func_type == 2:\n",
    "            var_type = np.random.choice([0, 1])\n",
    "            return_type = var_type\n",
    "            arg_indices = np.random.choice(np.arange(num_of_scalars if var_type == 0 else num_of_vectors), size=1)\n",
    "            return_index = np.random.choice(np.arange(num_of_scalars if return_type == 0 else num_of_vectors)[1:], size=1)\n",
    "        elif func_type == 3:\n",
    "            var_type = 1\n",
    "            return_type = 0\n",
    "            arg_indices = np.random.choice(np.arange(num_of_vectors), size=2)\n",
    "            return_index = np.random.choice(np.arange(num_of_scalars)[1:], size=1)\n",
    "            \n",
    "        self.functions[func_index] = func_type\n",
    "        self.func_args[func_index] = dict(\n",
    "            var_type=var_type, \n",
    "            return_type=return_type,\n",
    "            arg_indices=arg_indices,\n",
    "            return_index=return_index\n",
    "        )\n",
    "\n",
    "    def eval_func(self):\n",
    "        for func_index, args in zip(self.functions, self.func_args):\n",
    "            var_type = args[\"var_type\"]\n",
    "            return_type = args[\"return_type\"]\n",
    "            arg_indices = args[\"arg_indices\"]\n",
    "            return_index = args[\"return_index\"]\n",
    "            \n",
    "            result = None\n",
    "            if var_type == 0:\n",
    "                result = functions[func_index](*pool.get_scalars(arg_indices))\n",
    "            elif var_type == 1:\n",
    "                result = functions[func_index](*pool.get_vectors(arg_indices))\n",
    "                \n",
    "            if return_type == 0:\n",
    "                pool.set_scalar(index=return_index, value=result)\n",
    "            elif return_type == 1:\n",
    "                pool.set_vector(index=return_index, value=result)\n",
    "            "
   ]
  },
  {
   "cell_type": "markdown",
   "id": "f3461b6b7568c699",
   "metadata": {},
   "source": [
    "## Predict"
   ]
  },
  {
   "cell_type": "code",
   "execution_count": 8,
   "id": "41b2fffa98658a1e",
   "metadata": {
    "ExecuteTime": {
     "end_time": "2024-09-16T17:24:58.001623Z",
     "start_time": "2024-09-16T17:24:57.998519Z"
    }
   },
   "outputs": [],
   "source": [
    "class Predict(Learn, ABC):\n",
    "    pass"
   ]
  },
  {
   "cell_type": "markdown",
   "id": "4d4f8fe051d9ae3",
   "metadata": {},
   "source": [
    "# Mutator"
   ]
  },
  {
   "cell_type": "code",
   "execution_count": 9,
   "id": "303fc94b99f4d71e",
   "metadata": {
    "ExecuteTime": {
     "end_time": "2024-09-16T17:24:58.007269Z",
     "start_time": "2024-09-16T17:24:58.002479Z"
    }
   },
   "outputs": [],
   "source": [
    "class Mutator:\n",
    "    def __init__(self):\n",
    "        self.mutate_types = [\n",
    "            \"add_function\", \n",
    "            \"remove_function\", \n",
    "            \"change_function\", \n",
    "            \"change_inner_params\"\n",
    "        ]\n",
    "        self._critical_func_nums = 3\n",
    "        \n",
    "        \n",
    "    def mutate(self, function: Function):\n",
    "        mutation_type = np.random.choice(self.mutate_types)\n",
    "        # mutation_type = \"change_function\"\n",
    "        if not function.functions:\n",
    "            mutation_type = \"add_function\"\n",
    "            \n",
    "        if len(function.functions) >= self._critical_func_nums:\n",
    "            mutation_type = np.random.choice(self.mutate_types[1:])\n",
    "            \n",
    "        if mutation_type == \"add_function\":\n",
    "            function_index = np.random.choice([0, 1, 2, 3])\n",
    "            function.add_function(function_index)\n",
    "        elif mutation_type == \"remove_function\":\n",
    "            if len(function.functions) > 0:\n",
    "                function.remove_function(np.random.choice(np.arange(len(function.functions))))\n",
    "        elif mutation_type == \"change_function\":\n",
    "            if len(function.functions) > 0:\n",
    "                function.replace_function(np.random.choice(np.arange(len(function.functions))))\n",
    "        elif mutation_type == \"change_inner_params\":\n",
    "            if len(function.functions) > 0:\n",
    "                function.change_inner_params(np.random.choice(np.arange(len(function.functions))))\n",
    "            \n",
    "        return function\n",
    "            "
   ]
  },
  {
   "cell_type": "markdown",
   "id": "928cf01d99b8d07b",
   "metadata": {},
   "source": [
    "# Evaluate function"
   ]
  },
  {
   "cell_type": "code",
   "execution_count": 10,
   "id": "36b1bfe1d1651dc0",
   "metadata": {
    "ExecuteTime": {
     "end_time": "2024-09-16T17:24:58.016434Z",
     "start_time": "2024-09-16T17:24:58.010598Z"
    }
   },
   "outputs": [],
   "source": [
    "def initialize_memory():\n",
    "    pool.set_scalars(np.zeros(num_of_scalars))\n",
    "    pool.set_vectors(np.zeros((num_of_vectors, n_features)))\n",
    "    \n",
    "def sigmoid(x):\n",
    "    return 1 / (1 + np.exp(-x))\n",
    "    \n",
    "def normalize(x):\n",
    "    return sigmoid(x)\n",
    "\n",
    "def loss(true, predicted):\n",
    "    # return -(true * np.log(predicted) + (1 - true) * np.log(1 - predicted))\n",
    "    return np.abs(predicted - true)\n",
    "    \n",
    "def evaluate_one_task(setup: Setup, predict: Predict, learn: Learn, dtrain, dvalid):\n",
    "    initialize_memory()\n",
    "    setup.eval_func()\n",
    "    for row in dtrain:\n",
    "        x = row[:-1]\n",
    "        y = row[-1]\n",
    "        \n",
    "        pool.set_vector(index=0, value=x) # v0 = x\n",
    "        predict.eval_func()\n",
    "        \n",
    "        s1 = pool.get_scalar(index=1) # s1 = predict\n",
    "        s1 = normalize(s1)\n",
    "        pool.set_scalar(index=1, value=s1)\n",
    "        pool.set_scalar(index=0, value=y) # s0 = true_label\n",
    "        learn.eval_func()\n",
    "    \n",
    "    sum_loss = 0.0\n",
    "    for row in dvalid:\n",
    "        x = row[:-1]\n",
    "        y = row[-1]\n",
    "        \n",
    "        pool.set_vector(index=0, value=x)\n",
    "        predict.eval_func()\n",
    "        s1 = pool.get_scalar(index=1)\n",
    "        s1 = normalize(s1)\n",
    "        \n",
    "        sum_loss += loss(y, s1)\n",
    "        \n",
    "    mean_loss = sum_loss / len(dvalid)\n",
    "    if mean_loss > 1 or np.isnan(mean_loss):\n",
    "        mean_loss = 1 \n",
    "    return mean_loss\n",
    "\n",
    "def evaluate(setup: Setup, predict: Predict, learn: Learn):\n",
    "    mean_loss = 0.0\n",
    "    for dtrain, dvalid in datasets:\n",
    "        mean_loss += evaluate_one_task(setup, predict, learn, dtrain, dvalid)\n",
    "    return mean_loss / n_tasks\n",
    "\n",
    "def get_best_model(models):\n",
    "    best_model = models[0]\n",
    "    for i in range(len(models)):\n",
    "        if models[i][-1] < best_model[-1]:\n",
    "            best_model = models[i]\n",
    "    return best_model"
   ]
  },
  {
   "cell_type": "markdown",
   "id": "9d2f45b8af0170b3",
   "metadata": {},
   "source": [
    "## Check for degenerate models"
   ]
  },
  {
   "cell_type": "code",
   "execution_count": 11,
   "id": "2d5d08a2839ade90",
   "metadata": {
    "ExecuteTime": {
     "end_time": "2024-09-16T17:24:58.020735Z",
     "start_time": "2024-09-16T17:24:58.017623Z"
    }
   },
   "outputs": [],
   "source": [
    "def is_current_model_degenerate():\n",
    "    \"\"\"\n",
    "    checks pool to see whether calculations with current model(setup, predict, learn) \n",
    "    produce degenerate values\n",
    "    \"\"\"\n",
    "    scalars = pool.get_scalars()\n",
    "    vectors = pool.get_vectors().flatten()\n",
    "    values = np.concatenate((scalars, vectors))\n",
    "    for elem in values:\n",
    "        if elem is np.nan or elem is np.inf or elem is -np.inf or elem > 1e5 or elem < -1e5:\n",
    "            return True \n",
    "    return False"
   ]
  },
  {
   "cell_type": "markdown",
   "id": "d297852f6ea52dd0",
   "metadata": {},
   "source": [
    "# Evolution function"
   ]
  },
  {
   "cell_type": "code",
   "execution_count": 12,
   "id": "1ca77d5a4a34a0f6",
   "metadata": {
    "ExecuteTime": {
     "end_time": "2024-09-16T17:24:58.027247Z",
     "start_time": "2024-09-16T17:24:58.021543Z"
    }
   },
   "outputs": [],
   "source": [
    "from copy import deepcopy\n",
    "def run_evolution(POPULATION_SIZE, SUBSET_SIZE, CYCLES_NUM):\n",
    "    population = []\n",
    "    history = []\n",
    "    while len(population) < POPULATION_SIZE:\n",
    "        setup = mutator.mutate(Setup())\n",
    "        predict = mutator.mutate(Predict())\n",
    "        learn = mutator.mutate(Learn())\n",
    "        mean_loss = evaluate(setup, predict, learn)\n",
    "        while is_current_model_degenerate():\n",
    "            setup = mutator.mutate(Setup())\n",
    "            predict = mutator.mutate(Predict())\n",
    "            learn = mutator.mutate(Learn())\n",
    "            mean_loss = evaluate(setup, predict, learn)\n",
    "\n",
    "        population.append([setup, predict, learn, mean_loss])\n",
    "        history.append([setup, predict, learn, mean_loss])\n",
    "\n",
    "    while len(history) - POPULATION_SIZE < CYCLES_NUM:\n",
    "        candidates = []\n",
    "        while len(candidates) < SUBSET_SIZE:\n",
    "            random_model = random.choice(population)\n",
    "            candidates.append(random_model)\n",
    "        best_model = get_best_model(candidates)\n",
    "        child = deepcopy(best_model)\n",
    "\n",
    "        child[0] = mutator.mutate(child[0]) # mutate setup\n",
    "        child[1] = mutator.mutate(child[1]) # mutate predict\n",
    "        child[2] = mutator.mutate(child[2]) # mutate learn\n",
    "        child[3] = evaluate(child[0], child[1], child[2])\n",
    "        if is_current_model_degenerate():\n",
    "            child[0] = mutator.mutate(child[0]) # mutate setup\n",
    "            child[1] = mutator.mutate(child[1]) # mutate predict\n",
    "            child[2] = mutator.mutate(child[2]) # mutate learn\n",
    "            child[3] = evaluate(child[0], child[1], child[2])\n",
    "\n",
    "        population.pop(0)\n",
    "        history.append(child)\n",
    "        population.append(child)\n",
    "\n",
    "\n",
    "    return history"
   ]
  },
  {
   "cell_type": "code",
   "execution_count": 13,
   "id": "c2df6103ab9e7d87",
   "metadata": {
    "ExecuteTime": {
     "end_time": "2024-09-16T17:24:58.032948Z",
     "start_time": "2024-09-16T17:24:58.028465Z"
    }
   },
   "outputs": [],
   "source": [
    "# from copy import deepcopy\n",
    "# def run_evolution(POPULATION_SIZE, SUBSET_SIZE, CYCLES_NUM, history ):\n",
    "#     population = []\n",
    "#     while len(population) < POPULATION_SIZE:\n",
    "#         setup = mutator.mutate(Setup())\n",
    "#         predict = mutator.mutate(Predict())\n",
    "#         learn = mutator.mutate(Learn())\n",
    "#         mean_loss = evaluate(setup, predict, learn)\n",
    "#         while is_current_model_degenerate():\n",
    "#             setup = mutator.mutate(Setup())\n",
    "#             predict = mutator.mutate(Predict())\n",
    "#             learn = mutator.mutate(Learn())\n",
    "#             mean_loss = evaluate(setup, predict, learn)\n",
    "\n",
    "#         population.append([setup, predict, learn, mean_loss])\n",
    "#         history.append([setup, predict, learn, mean_loss])\n",
    "\n",
    "#     for c in tqdm(range(CYCLES_NUM)):\n",
    "#         population = sorted(population, key = lambda x: x[-1])[:SUBSET_SIZE]\n",
    "#         old_pop = population[:]\n",
    "#         for p in old_pop:\n",
    "#             child = deepcopy(p)\n",
    "#             child[0] = mutator.mutate(child[0]) # mutate setup\n",
    "#             child[1] = mutator.mutate(child[1]) # mutate predict\n",
    "#             child[2] = mutator.mutate(child[2]) # mutate learn\n",
    "#             child[3] = evaluate(child[0], child[1], child[2])\n",
    "#             if is_current_model_degenerate():\n",
    "#                 child[0] = mutator.mutate(child[0]) # mutate setup\n",
    "#                 child[1] = mutator.mutate(child[1]) # mutate predict\n",
    "#                 child[2] = mutator.mutate(child[2]) # mutate learn\n",
    "#                 child[3] = evaluate(child[0], child[1], child[2])\n",
    "\n",
    "#             history.append(child)\n",
    "#             population.append(child)\n",
    "#     return history \n"
   ]
  },
  {
   "cell_type": "markdown",
   "id": "5ea702702f4cdd53",
   "metadata": {},
   "source": [
    "# Run"
   ]
  },
  {
   "cell_type": "code",
   "execution_count": 27,
   "id": "12c2509c7684c333",
   "metadata": {
    "ExecuteTime": {
     "end_time": "2024-09-16T17:24:58.037278Z",
     "start_time": "2024-09-16T17:24:58.033989Z"
    }
   },
   "outputs": [],
   "source": [
    "num_of_scalars = 4\n",
    "num_of_vectors = 4\n",
    "pool = Pool(num_of_scalars=num_of_scalars, num_of_vectors=num_of_vectors)"
   ]
  },
  {
   "cell_type": "code",
   "execution_count": 28,
   "id": "c1a2be0a74ff086",
   "metadata": {
    "ExecuteTime": {
     "end_time": "2024-09-16T17:24:58.041078Z",
     "start_time": "2024-09-16T17:24:58.038430Z"
    }
   },
   "outputs": [],
   "source": [
    "mutator = Mutator()"
   ]
  },
  {
   "cell_type": "code",
   "execution_count": 29,
   "id": "6a1e1238e6014b59",
   "metadata": {
    "ExecuteTime": {
     "end_time": "2024-09-16T17:49:23.919981Z",
     "start_time": "2024-09-16T17:24:58.042016Z"
    }
   },
   "outputs": [
    {
     "name": "stderr",
     "output_type": "stream",
     "text": [
      "/tmp/ipykernel_97754/1221444319.py:111: RuntimeWarning: overflow encountered in add\n",
      "  result = functions[func_index](*pool.get_vectors(arg_indices))\n",
      "/tmp/ipykernel_97754/1221444319.py:109: RuntimeWarning: overflow encountered in add\n",
      "  result = functions[func_index](*pool.get_scalars(arg_indices))\n",
      "/tmp/ipykernel_97754/3257875434.py:6: RuntimeWarning: overflow encountered in exp\n",
      "  return 1 / (1 + np.exp(-x))\n",
      "/tmp/ipykernel_97754/1221444319.py:111: RuntimeWarning: overflow encountered in matmul\n",
      "  result = functions[func_index](*pool.get_vectors(arg_indices))\n",
      "/tmp/ipykernel_97754/1221444319.py:111: RuntimeWarning: invalid value encountered in matmul\n",
      "  result = functions[func_index](*pool.get_vectors(arg_indices))\n",
      "/tmp/ipykernel_97754/1221444319.py:109: RuntimeWarning: invalid value encountered in add\n",
      "  result = functions[func_index](*pool.get_scalars(arg_indices))\n"
     ]
    },
    {
     "name": "stdout",
     "output_type": "stream",
     "text": [
      "CPU times: user 4min 17s, sys: 98.1 ms, total: 4min 17s\n",
      "Wall time: 4min 17s\n"
     ]
    }
   ],
   "source": [
    "%%time\n",
    "# history = []\n",
    "# run_evolution(100, 30, 1000, history)\n",
    "history = run_evolution(POPULATION_SIZE=100, SUBSET_SIZE=30, CYCLES_NUM=5000)"
   ]
  },
  {
   "cell_type": "code",
   "execution_count": 30,
   "id": "5877259f8f8a8699",
   "metadata": {
    "ExecuteTime": {
     "end_time": "2024-09-16T17:49:24.230403Z",
     "start_time": "2024-09-16T17:49:23.921081Z"
    }
   },
   "outputs": [
    {
     "data": {
      "image/png": "[encoded data removed]",
      "text/plain": [
       "<Figure size 1600x700 with 1 Axes>"
      ]
     },
     "metadata": {},
     "output_type": "display_data"
    }
   ],
   "source": [
    "losses = []\n",
    "for model in history:\n",
    "    losses.append(model[-1])\n",
    "plt.figure(figsize=(16, 7))\n",
    "plt.plot(np.arange(len(losses)),losses);"
   ]
  },
  {
   "cell_type": "code",
   "execution_count": 31,
   "id": "363f04c6ec486833",
   "metadata": {
    "ExecuteTime": {
     "end_time": "2024-09-16T17:49:24.234049Z",
     "start_time": "2024-09-16T17:49:24.231321Z"
    }
   },
   "outputs": [
    {
     "name": "stdout",
     "output_type": "stream",
     "text": [
      "Pool(\n",
      "scalars=[ 0.00000000e+00  4.05381981e+00 -1.22051450e+04 -6.11012970e+00], \n",
      "vectors=\n",
      "[[ 0.40010766  0.71823756]\n",
      " [19.47498552 -8.71918035]\n",
      " [ 0.40010766  0.71823756]\n",
      " [-1.17012253  6.29595982]]\n",
      ")\n"
     ]
    }
   ],
   "source": [
    "print(pool)"
   ]
  },
  {
   "cell_type": "code",
   "execution_count": 32,
   "id": "63c6294eccb08a82",
   "metadata": {
    "ExecuteTime": {
     "end_time": "2024-09-16T17:49:24.616556Z",
     "start_time": "2024-09-16T17:49:24.234900Z"
    }
   },
   "outputs": [
    {
     "name": "stdout",
     "output_type": "stream",
     "text": [
      "sklearn accuracy: 0.99\n",
      "sklearn log_loss: 0.36043653389117175\n"
     ]
    },
    {
     "data": {
      "text/plain": [
       "(array([[3.31162896, 7.74300643]]), array([-14.75586005]))"
      ]
     },
     "execution_count": 32,
     "metadata": {},
     "output_type": "execute_result"
    }
   ],
   "source": [
    "from sklearn.linear_model import LogisticRegression\n",
    "model = LogisticRegression()\n",
    "train, valid = datasets[0]\n",
    "model.fit(train[:,:-1], train[:,-1])\n",
    "pred = model.predict(valid[:,:-1])\n",
    "from sklearn.metrics import log_loss, accuracy_score\n",
    "print(\"sklearn accuracy:\",accuracy_score(valid[:, -1], pred))\n",
    "print(\"sklearn log_loss:\",log_loss(valid[:,-1], pred, labels=[0, 1]))\n",
    "model.coef_, model.intercept_"
   ]
  },
  {
   "cell_type": "code",
   "execution_count": 33,
   "id": "9a26fc2d1691ffb6",
   "metadata": {
    "ExecuteTime": {
     "end_time": "2024-09-16T17:49:24.622905Z",
     "start_time": "2024-09-16T17:49:24.617361Z"
    }
   },
   "outputs": [],
   "source": [
    "def get_prediction(setup: Setup, predict: Predict, learn: Learn, dvalid):\n",
    "    initialize_memory()\n",
    "    setup.eval_func()\n",
    "    preds = []\n",
    "    for row in dvalid:\n",
    "        x = row[:-1]\n",
    "        y = row[-1]\n",
    "        pool.set_vector(index=0, value=x)\n",
    "        predict.eval_func()\n",
    "        s1 = pool.get_scalar(index=1)\n",
    "        s1 = normalize(s1)\n",
    "        pool.set_scalar(index=1, value=s1)\n",
    "        preds.append((s1 >= 0.5))\n",
    "    return preds    \n",
    "\n",
    "best_model = history[-1]\n",
    "for elem in history:\n",
    "    # print(elem[-1], best_model[-1])\n",
    "    if elem[-1] < best_model[-1]:\n",
    "        best_model = elem "
   ]
  },
  {
   "cell_type": "code",
   "execution_count": 34,
   "id": "bc38ebc0257194b3",
   "metadata": {
    "ExecuteTime": {
     "end_time": "2024-09-16T17:49:24.632204Z",
     "start_time": "2024-09-16T17:49:24.623751Z"
    }
   },
   "outputs": [],
   "source": [
    "preds = get_prediction(best_model[0], best_model[1], best_model[2], dvalid)"
   ]
  },
  {
   "cell_type": "code",
   "execution_count": 35,
   "id": "9e34b11db0640220",
   "metadata": {
    "ExecuteTime": {
     "end_time": "2024-09-16T17:49:24.637132Z",
     "start_time": "2024-09-16T17:49:24.633172Z"
    }
   },
   "outputs": [
    {
     "name": "stdout",
     "output_type": "stream",
     "text": [
      "evolved model accuracy: 0.73\n",
      "evolved model absolute diff: 0.0873685322070232\n"
     ]
    }
   ],
   "source": [
    "print(\"evolved model accuracy:\", accuracy_score(valid[:,-1], preds))\n",
    "print(\"evolved model absolute diff:\", best_model[-1])"
   ]
  },
  {
   "cell_type": "code",
   "execution_count": 23,
   "id": "9472928bfde99a2a",
   "metadata": {
    "ExecuteTime": {
     "end_time": "2024-09-16T17:49:24.642183Z",
     "start_time": "2024-09-16T17:49:24.638185Z"
    }
   },
   "outputs": [
    {
     "data": {
      "text/plain": [
       "([3],\n",
       " [{'var_type': 1,\n",
       "   'return_type': 0,\n",
       "   'arg_indices': array([2, 0]),\n",
       "   'return_index': array([1])}])"
      ]
     },
     "execution_count": 23,
     "metadata": {},
     "output_type": "execute_result"
    }
   ],
   "source": [
    "best_model[1].functions, best_model[1].func_args # predict "
   ]
  },
  {
   "cell_type": "code",
   "execution_count": 24,
   "id": "c0aa93f4d9062632",
   "metadata": {
    "ExecuteTime": {
     "end_time": "2024-09-16T17:49:24.647159Z",
     "start_time": "2024-09-16T17:49:24.643060Z"
    }
   },
   "outputs": [
    {
     "data": {
      "text/plain": [
       "([1, 1],\n",
       " [{'var_type': 1,\n",
       "   'return_type': 1,\n",
       "   'arg_indices': array([3, 1]),\n",
       "   'return_index': array([2])},\n",
       "  {'var_type': 1,\n",
       "   'return_type': 1,\n",
       "   'arg_indices': array([0, 0]),\n",
       "   'return_index': array([1])}])"
      ]
     },
     "execution_count": 24,
     "metadata": {},
     "output_type": "execute_result"
    }
   ],
   "source": [
    "best_model[2].functions, best_model[2].func_args # learn "
   ]
  },
  {
   "cell_type": "code",
   "execution_count": 25,
   "id": "65dcd62da2a05341",
   "metadata": {
    "ExecuteTime": {
     "end_time": "2024-09-16T17:49:24.652866Z",
     "start_time": "2024-09-16T17:49:24.648111Z"
    }
   },
   "outputs": [
    {
     "data": {
      "text/plain": [
       "array([-3.64346567, -7.25886786,  9.24142445, -9.23343075])"
      ]
     },
     "execution_count": 25,
     "metadata": {},
     "output_type": "execute_result"
    }
   ],
   "source": [
    "best_model[0]._scalars"
   ]
  },
  {
   "cell_type": "code",
   "execution_count": 26,
   "id": "931f1e9c24d97184",
   "metadata": {
    "ExecuteTime": {
     "end_time": "2024-09-16T17:49:24.658110Z",
     "start_time": "2024-09-16T17:49:24.653989Z"
    }
   },
   "outputs": [
    {
     "data": {
      "text/plain": [
       "array([[ 14.81842956,  -8.24489856],\n",
       "       [-17.94989746,  -1.18629497],\n",
       "       [ -8.00378571,  -1.36184949],\n",
       "       [ -8.3189421 ,  19.48058518]])"
      ]
     },
     "execution_count": 26,
     "metadata": {},
     "output_type": "execute_result"
    }
   ],
   "source": [
    "best_model[0]._vectors"
   ]
  },
  {
   "cell_type": "code",
   "execution_count": 36,
   "id": "59bb1ca17ffb1899",
   "metadata": {
    "ExecuteTime": {
     "end_time": "2024-09-16T17:49:24.660967Z",
     "start_time": "2024-09-16T17:49:24.659109Z"
    }
   },
   "outputs": [
    {
     "data": {
      "text/plain": [
       "function"
      ]
     },
     "execution_count": 36,
     "metadata": {},
     "output_type": "execute_result"
    }
   ],
   "source": [
    "def f():\n",
    "  pass \n",
    "type(f)"
   ]
  }
 ],
 "metadata": {
  "kernelspec": {
   "display_name": "Python 3",
   "language": "python",
   "name": "python3"
  },
  "language_info": {
   "codemirror_mode": {
    "name": "ipython",
    "version": 3
   },
   "file_extension": ".py",
   "mimetype": "text/x-python",
   "name": "python",
   "nbconvert_exporter": "python",
   "pygments_lexer": "ipython3",
   "version": "3.10.12"
  }
 },
 "nbformat": 4,
 "nbformat_minor": 5
}
