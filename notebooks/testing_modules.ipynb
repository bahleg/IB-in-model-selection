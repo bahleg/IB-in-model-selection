{
 "cells": [
  {
   "cell_type": "code",
   "execution_count": 650,
   "metadata": {},
   "outputs": [
    {
     "name": "stdout",
     "output_type": "stream",
     "text": [
      "The autoreload extension is already loaded. To reload it, use:\n",
      "  %reload_ext autoreload\n",
      "['/home/bukkacha/Desktop/Inductive bias/notebooks', '/usr/lib/python310.zip', '/usr/lib/python3.10', '/usr/lib/python3.10/lib-dynload', '', '/home/bukkacha/.local/lib/python3.10/site-packages', '/usr/local/lib/python3.10/dist-packages', '/usr/lib/python3/dist-packages', '/usr/lib/python3.10/dist-packages', '../']\n"
     ]
    }
   ],
   "source": [
    "%load_ext autoreload\n",
    "%autoreload \n",
    "\n",
    "import sys\n",
    "import numpy as np\n",
    "\n",
    "if '../' not in sys.path: sys.path.append('../')\n",
    "print(sys.path)\n",
    "\n",
    "from src.model import Learn, Setup, Predict, Model\n",
    "from src.memory_pool import Pool"
   ]
  },
  {
   "cell_type": "code",
   "execution_count": 651,
   "metadata": {},
   "outputs": [],
   "source": [
    "nscalars = 4\n",
    "nvectors = 4\n",
    "nfeatures = 2\n",
    "pool = Pool(nscalars, nvectors, nfeatures)"
   ]
  },
  {
   "cell_type": "code",
   "execution_count": 652,
   "metadata": {},
   "outputs": [],
   "source": [
    "model = Model(nscalars, nvectors, nfeatures)"
   ]
  },
  {
   "cell_type": "code",
   "execution_count": 655,
   "metadata": {},
   "outputs": [],
   "source": [
    "for _ in range(5):\n",
    "  model.mutate(pool)"
   ]
  },
  {
   "cell_type": "code",
   "execution_count": 656,
   "metadata": {},
   "outputs": [
    {
     "data": {
      "text/plain": [
       "\n",
       "    Model structure:\n",
       "\n",
       "      Setup: \n",
       "    \tscalars=[3.6572568  4.85940797 0.18200422 3.16136483], \n",
       "    \tvectors=[[-2.276283139127111, 6.165704560692994], [8.426648764042884, 3.129502526653864], [1.6188414126525537, 8.967973444404777], [-4.688700662704228, -7.0022216636039]]\n",
       "    \n",
       "      Learn: \n",
       "      \tmagnitute(s3)=s0\n",
       "\tsubtraction(s2, s0)=s1\n",
       "\t\n",
       "      Predict: \n",
       "      \tmatmul(v0, v2)=s0\n",
       "\tmatmul(v2, v2)=s2\n",
       "\tmagnitute(s2)=s1\n",
       "\t\n",
       "    "
      ]
     },
     "execution_count": 656,
     "metadata": {},
     "output_type": "execute_result"
    }
   ],
   "source": [
    "model"
   ]
  },
  {
   "cell_type": "code",
   "execution_count": null,
   "metadata": {},
   "outputs": [],
   "source": []
  },
  {
   "cell_type": "code",
   "execution_count": 497,
   "metadata": {},
   "outputs": [],
   "source": [
    "learn = Learn()\n",
    "predict = Predict()"
   ]
  },
  {
   "cell_type": "code",
   "execution_count": 501,
   "metadata": {},
   "outputs": [
    {
     "data": {
      "text/plain": [
       "Pool(\n",
       "scalars=[-0.06663429 -0.63025022  0.47294012  1.62496043], \n",
       "vectors=\n",
       "[[-0.2838817   0.53330234]\n",
       " [-0.38258335  0.002105  ]\n",
       " [-0.69081695 -0.86591891]\n",
       " [ 2.09156466 -0.95144452]]\n",
       ")"
      ]
     },
     "execution_count": 501,
     "metadata": {},
     "output_type": "execute_result"
    }
   ],
   "source": [
    "pool.set_scalars(np.random.randn(nscalars))\n",
    "pool.set_vectors(np.random.randn(nvectors, nfeatures))\n",
    "pool\n"
   ]
  },
  {
   "cell_type": "code",
   "execution_count": 502,
   "metadata": {},
   "outputs": [],
   "source": [
    "for _ in range(10):\n",
    "  predict.mutate(pool)\n",
    "  predict.eval_func(pool)"
   ]
  },
  {
   "cell_type": "code",
   "execution_count": 503,
   "metadata": {},
   "outputs": [
    {
     "data": {
      "text/plain": [
       "Pool(\n",
       "scalars=[ 0.10973101 -0.2560966   0.47294012 -0.14636559], \n",
       "vectors=\n",
       "[[ 1.0490484   0.52909234]\n",
       " [-0.38258335  0.002105  ]\n",
       " [ 0.69081695  0.86591891]\n",
       " [ 0.38258335  0.002105  ]]\n",
       ")"
      ]
     },
     "execution_count": 503,
     "metadata": {},
     "output_type": "execute_result"
    }
   ],
   "source": [
    "pool"
   ]
  },
  {
   "cell_type": "code",
   "execution_count": 504,
   "metadata": {},
   "outputs": [
    {
     "data": {
      "text/plain": [
       "([3, 2, 1, 3, 1, 1],\n",
       " [{'arg_indices': array([1, 0]),\n",
       "   'arg_type': 1,\n",
       "   'return_idx': array([0]),\n",
       "   'return_type': 1},\n",
       "  {'arg_indices': array([1, 3]),\n",
       "   'arg_type': 1,\n",
       "   'return_idx': array([3]),\n",
       "   'return_type': 0},\n",
       "  {'arg_indices': array([3]),\n",
       "   'arg_type': 1,\n",
       "   'return_idx': array([3]),\n",
       "   'return_type': 1},\n",
       "  {'arg_indices': array([3, 0]),\n",
       "   'arg_type': 0,\n",
       "   'return_idx': array([1]),\n",
       "   'return_type': 0},\n",
       "  {'arg_indices': array([0]),\n",
       "   'arg_type': 1,\n",
       "   'return_idx': array([0]),\n",
       "   'return_type': 1},\n",
       "  {'arg_indices': array([1]),\n",
       "   'arg_type': 1,\n",
       "   'return_idx': array([3]),\n",
       "   'return_type': 1}])"
      ]
     },
     "execution_count": 504,
     "metadata": {},
     "output_type": "execute_result"
    }
   ],
   "source": [
    "predict._functions, predict._args"
   ]
  },
  {
   "cell_type": "code",
   "execution_count": 505,
   "metadata": {},
   "outputs": [
    {
     "data": {
      "text/plain": [
       "array([0., 0., 0., 0.])"
      ]
     },
     "execution_count": 505,
     "metadata": {},
     "output_type": "execute_result"
    }
   ],
   "source": [
    "np.zeros(4)"
   ]
  }
 ],
 "metadata": {
  "kernelspec": {
   "display_name": "Python 3",
   "language": "python",
   "name": "python3"
  },
  "language_info": {
   "codemirror_mode": {
    "name": "ipython",
    "version": 3
   },
   "file_extension": ".py",
   "mimetype": "text/x-python",
   "name": "python",
   "nbconvert_exporter": "python",
   "pygments_lexer": "ipython3",
   "version": "3.10.12"
  }
 },
 "nbformat": 4,
 "nbformat_minor": 2
}
